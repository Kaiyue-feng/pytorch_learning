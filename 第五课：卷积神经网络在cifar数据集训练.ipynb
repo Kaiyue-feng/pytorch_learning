{
 "cells": [
  {
   "cell_type": "markdown",
   "metadata": {},
   "source": [
    "\n",
    "# 数据\n",
    "\n",
    "### - For images, packages such as Pillow, OpenCV are useful\n",
    "### - For audio, packages such as scipy and librosa\n",
    "### - For text, either raw Python or Cython based loading, or NLTK and SpaCy are useful\n",
    "\n",
    "Specifically for vision, we have created a package called `torchvision`, that has data loaders for common datasets such as Imagenet, CIFAR10, MNIST, etc. and data transformers for images, viz.,\n",
    "**torchvision有很多数据下载器可以下**\n",
    "\n",
    "**载imagenet，MINIST等数据**\n",
    "`torchvision.datasets` and `torch.utils.data.DataLoader`."
   ]
  },
  {
   "cell_type": "code",
   "execution_count": 1,
   "metadata": {},
   "outputs": [],
   "source": [
    "import torch.nn as nn\n",
    "import torch\n",
    "import torchvision.datasets as datasets\n",
    "import torch.nn.functional as F"
   ]
  },
  {
   "cell_type": "markdown",
   "metadata": {},
   "source": [
    "## 导入torchvision\n",
    "### 下载CIFAR10数据集：训练集50000  测试集10000  内容包含自然生活中的场景\n"
   ]
  },
  {
   "cell_type": "code",
   "execution_count": 2,
   "metadata": {
    "scrolled": true
   },
   "outputs": [
    {
     "name": "stdout",
     "output_type": "stream",
     "text": [
      "Files already downloaded and verified\n",
      "Files already downloaded and verified\n"
     ]
    }
   ],
   "source": [
    "import torchvision.transforms as transforms\n",
    "transform = transforms.Compose([transforms.ToTensor(),transforms.Normalize((0.5, 0.5, 0.5), (0.5, 0.5, 0.5))])#标准化图像数据\n",
    "trainset = datasets.CIFAR10(root='./data', train=True,download=True, transform=transform)\n",
    "testset = datasets.CIFAR10(root='./data', train=False,download=True, transform=transform)"
   ]
  },
  {
   "cell_type": "code",
   "execution_count": 3,
   "metadata": {},
   "outputs": [
    {
     "name": "stdout",
     "output_type": "stream",
     "text": [
      "Dataset CIFAR10\n",
      "    Number of datapoints: 50000\n",
      "    Root location: ./data\n",
      "    Split: Train\n",
      "    StandardTransform\n",
      "Transform: Compose(\n",
      "               ToTensor()\n",
      "               Normalize(mean=(0.5, 0.5, 0.5), std=(0.5, 0.5, 0.5))\n",
      "           )\n"
     ]
    }
   ],
   "source": [
    "print(trainset)"
   ]
  },
  {
   "cell_type": "markdown",
   "metadata": {},
   "source": [
    "### 将下载的数据导入到trainloader和testloader\n",
    "\n",
    "***  \n",
    "- batchsize = 4 表示一次加载四张\n",
    "- shffle 表示是否打乱顺序"
   ]
  },
  {
   "cell_type": "code",
   "execution_count": 4,
   "metadata": {},
   "outputs": [],
   "source": [
    "trainloader = torch.utils.data.DataLoader(trainset, batch_size=4,\n",
    "                                          shuffle=True, num_workers=2)\n",
    "testloader = torch.utils.data.DataLoader(testset, batch_size=4,\n",
    "                                          shuffle=True, num_workers=2)"
   ]
  },
  {
   "cell_type": "code",
   "execution_count": 8,
   "metadata": {},
   "outputs": [
    {
     "data": {
      "text/plain": [
       "torch.Size([4, 3, 32, 32])"
      ]
     },
     "execution_count": 8,
     "metadata": {},
     "output_type": "execute_result"
    }
   ],
   "source": [
    "image,label = next(iter(trainloader))\n",
    "image.shape"
   ]
  },
  {
   "cell_type": "markdown",
   "metadata": {},
   "source": [
    "### 显示一张数据"
   ]
  },
  {
   "cell_type": "code",
   "execution_count": 15,
   "metadata": {},
   "outputs": [
    {
     "name": "stderr",
     "output_type": "stream",
     "text": [
      "Clipping input data to the valid range for imshow with RGB data ([0..1] for floats or [0..255] for integers).\n"
     ]
    },
    {
     "name": "stdout",
     "output_type": "stream",
     "text": [
      "car\n"
     ]
    },
    {
     "data": {
      "image/png": "[encoded data removed]",
      "text/plain": [
       "<Figure size 432x288 with 1 Axes>"
      ]
     },
     "metadata": {
      "needs_background": "light"
     },
     "output_type": "display_data"
    }
   ],
   "source": [
    "image,label = next(iter(trainloader))\n",
    "image.shape\n",
    "\n",
    "# def imshow(img):\n",
    "#     img = img / 2 + 0.5  #标准化图像\n",
    "#     img = img.numpy()\n",
    "#     plt.imshow(np.transpose(img, (1,2,0)))  \n",
    "#     plt.show()\n",
    "# imshow(image[1])\n",
    "img = image[1].numpy()\n",
    "plt.imshow(np.transpose(img, (1,2,0)))\n",
    "classes = ('plane', 'car', 'bird', 'cat',\n",
    "          'deer', 'dog', 'frog', 'horse', 'ship', 'truck')\n",
    "print(classes[label[1]])"
   ]
  },
  {
   "cell_type": "markdown",
   "metadata": {},
   "source": [
    "## 查看数据集的大小类型"
   ]
  },
  {
   "cell_type": "code",
   "execution_count": 137,
   "metadata": {
    "scrolled": true
   },
   "outputs": [
    {
     "name": "stdout",
     "output_type": "stream",
     "text": [
      "Dataset CIFAR10\n",
      "    Number of datapoints: 10000\n",
      "    Root location: ./data\n",
      "    Split: Test\n",
      "    StandardTransform\n",
      "Transform: Compose(\n",
      "               ToTensor()\n",
      "               Normalize(mean=(0.5, 0.5, 0.5), std=(0.5, 0.5, 0.5))\n",
      "           )\n",
      "Dataset CIFAR10\n",
      "    Number of datapoints: 50000\n",
      "    Root location: ./data\n",
      "    Split: Train\n",
      "    StandardTransform\n",
      "Transform: Compose(\n",
      "               ToTensor()\n",
      "               Normalize(mean=(0.5, 0.5, 0.5), std=(0.5, 0.5, 0.5))\n",
      "           )\n"
     ]
    }
   ],
   "source": [
    "print(testset)\n",
    "print(trainset)"
   ]
  },
  {
   "cell_type": "markdown",
   "metadata": {},
   "source": [
    "### 显示加载的数据"
   ]
  },
  {
   "cell_type": "code",
   "execution_count": 6,
   "metadata": {
    "scrolled": false
   },
   "outputs": [
    {
     "name": "stdout",
     "output_type": "stream",
     "text": [
      "torch.Size([4, 3, 32, 32])\n",
      "torch.Size([3, 36, 138])\n",
      "torch.Size([36, 138, 3])\n"
     ]
    },
    {
     "data": {
      "text/plain": [
       "<Figure size 640x480 with 1 Axes>"
      ]
     },
     "metadata": {},
     "output_type": "display_data"
    },
    {
     "name": "stdout",
     "output_type": "stream",
     "text": [
      "  car      car      dog    plane \n"
     ]
    }
   ],
   "source": [
    "import numpy as np\n",
    "import matplotlib.pyplot as plt\n",
    "import torchvision\n",
    "\n",
    "\n",
    "def imshow(img):\n",
    "    img = img / 2 + 0.5  # 标准化图像\n",
    "    img = img.numpy()\n",
    "    plt.imshow(np.transpose(img, (1,2,0)))  \n",
    "    plt.show()\n",
    "\n",
    "# img = trainset[0][0]\n",
    "# img = img.numpy()\n",
    "# img = np.transpose(img, (1,2,0))\n",
    "# plt.imshow(img)\n",
    "img, label = next(iter(trainloader))\n",
    "print(img.shape)\n",
    "print(torchvision.utils.make_grid(img).shape)\n",
    "print(np.transpose(torchvision.utils.make_grid(img),(1,2,0)).shape)\n",
    "imshow(torchvision.utils.make_grid(img))\n",
    "classes = ('plane', 'car', 'bird', 'cat',\n",
    "          'deer', 'dog', 'frog', 'horse', 'ship', 'truck')\n",
    "# print(' '.join('%5s' % classes[label[i]]for i in range(4)))\n",
    "print('   '.join('%5s '%classes[label[i]]for i in range(4)))"
   ]
  },
  {
   "cell_type": "markdown",
   "metadata": {},
   "source": [
    "## 定义一个神经网络模型 "
   ]
  },
  {
   "cell_type": "code",
   "execution_count": 22,
   "metadata": {},
   "outputs": [],
   "source": [
    "import torch.nn.functional as F\n",
    "class Net(nn.Module):\n",
    "    def __init__(self):\n",
    "        super(Net, self).__init__()\n",
    "        self.conv1 = nn.Conv2d(3,6, 5)\n",
    "        self.conv2 = nn.Conv2d(6,16, 5)\n",
    "        self.pool = nn.MaxPool2d(2,2)\n",
    "        self.fc1 = nn.Linear(16*5*5,40)\n",
    "        self.fc2 = nn.Linear(40, 10)\n",
    "    def forward(self, x):\n",
    "        x = self.pool(self.conv1(x))\n",
    "        x = self.pool(self.conv2(x))\n",
    "        x = x.view(-1,16*5*5)\n",
    "        x = F.relu(self.fc1(x))\n",
    "        x = self.fc2(x)\n",
    "        return x"
   ]
  },
  {
   "cell_type": "markdown",
   "metadata": {},
   "source": [
    "# 数据训练\n",
    "- 定义优化参数\n",
    "- 定义损失函数\n",
    "- 迭代"
   ]
  },
  {
   "cell_type": "code",
   "execution_count": 20,
   "metadata": {},
   "outputs": [
    {
     "data": {
      "text/plain": [
       "<enumerate at 0x1b4cc9ef5e8>"
      ]
     },
     "execution_count": 20,
     "metadata": {},
     "output_type": "execute_result"
    }
   ],
   "source": [
    "x=torch.rand(5)\n",
    "enumerate(x, 0)"
   ]
  },
  {
   "cell_type": "code",
   "execution_count": 24,
   "metadata": {
    "scrolled": true
   },
   "outputs": [
    {
     "name": "stdout",
     "output_type": "stream",
     "text": [
      "1   2000  loss 2.01280617544055\n",
      "1   4000  loss 1.676117361113429\n",
      "1   6000  loss 1.5896893465071917\n",
      "1   8000  loss 1.515554117977619\n",
      "1   10000  loss 1.4745981756299733\n",
      "1   12000  loss 1.433620807506144\n",
      "2   2000  loss 1.3625063030347229\n",
      "2   4000  loss 1.3610958919748664\n",
      "2   6000  loss 1.3484743522703648\n",
      "2   8000  loss 1.3226434143595398\n",
      "2   10000  loss 1.2987060759589075\n",
      "2   12000  loss 1.3054342086315156\n"
     ]
    }
   ],
   "source": [
    "import torch.optim as optim\n",
    "net = Net()\n",
    "\n",
    "optimizer = optim.SGD(net.parameters(), lr = 0.001, momentum = 0.9)\n",
    "\n",
    "criterion = nn.CrossEntropyLoss()\n",
    "\n",
    "runing_loss = 0\n",
    "\n",
    "for epoch in range(2):\n",
    "    runing_loss = 0.0\n",
    "    for i, (imgs,labels) in enumerate(trainloader,0):\n",
    "#         imgs.to(\"cuda\")\n",
    "#         labels = labels.cuda()\n",
    "        output = net(imgs)\n",
    "        optimizer.zero_grad()\n",
    "        \n",
    "        loss = criterion(output, labels)\n",
    "        \n",
    "        loss.backward()\n",
    "        \n",
    "        optimizer.step()\n",
    "        \n",
    "        runing_loss += loss.item()\n",
    "        if i%2000 == 1999:\n",
    "            print(epoch+1, ' ',i+1,' loss', runing_loss/2000)\n",
    "            runing_loss = 0"
   ]
  },
  {
   "cell_type": "markdown",
   "metadata": {},
   "source": [
    "# 保存训练结束后的参数"
   ]
  },
  {
   "cell_type": "code",
   "execution_count": 25,
   "metadata": {},
   "outputs": [],
   "source": [
    "#保存训练结果参数\n",
    "PATH = './cifar_net.pth'\n",
    "torch.save(net.state_dict(), PATH)"
   ]
  },
  {
   "cell_type": "markdown",
   "metadata": {},
   "source": [
    "# 测试训练结果\n",
    "- 定义模型结构\n",
    "- 下载保存的结果参数\n",
    "- 查看测试集的结果"
   ]
  },
  {
   "cell_type": "code",
   "execution_count": 145,
   "metadata": {
    "scrolled": true
   },
   "outputs": [
    {
     "data": {
      "image/png": "[encoded data removed]",
      "text/plain": [
       "<Figure size 432x288 with 1 Axes>"
      ]
     },
     "metadata": {
      "needs_background": "light"
     },
     "output_type": "display_data"
    },
    {
     "name": "stdout",
     "output_type": "stream",
     "text": [
      "truck      truck       frog      plane\n"
     ]
    }
   ],
   "source": [
    "#测试训练结果\n",
    "net = Net()\n",
    "net.load_state_dict(torch.load(PATH))\n",
    "#查看一个结果\n",
    "test_imgs, test_ = next(iter(testloader))\n",
    "output = net(test_imgs)\n",
    "_, predicts = torch.max(output,1)\n",
    "imshow(torchvision.utils.make_grid(test_imgs))# 一定要make——grid才能显示\n",
    "print('      '.join('%5s'% classes[predicts[i]]for i in range(4)))"
   ]
  },
  {
   "cell_type": "markdown",
   "metadata": {},
   "source": [
    "# 查看整个测试集的正确率\n"
   ]
  },
  {
   "cell_type": "code",
   "execution_count": 135,
   "metadata": {
    "scrolled": true
   },
   "outputs": [
    {
     "name": "stdout",
     "output_type": "stream",
     "text": [
      "correct 0.5496\n"
     ]
    }
   ],
   "source": [
    "#查看整个测试集的正确率\n",
    "total = 0\n",
    "correct = 0\n",
    "for i, (test_imgs, test_labels) in enumerate(testloader):\n",
    "    output = net(test_imgs)\n",
    "    _,predicts = torch.max(output,1)\n",
    "    total += test_labels.size(0)\n",
    "    correct += (predicts == test_labels).sum().item()\n",
    "print('correct',correct/total)"
   ]
  },
  {
   "cell_type": "code",
   "execution_count": null,
   "metadata": {},
   "outputs": [],
   "source": []
  }
 ],
 "metadata": {
  "kernelspec": {
   "display_name": "Python 3",
   "language": "python",
   "name": "python3"
  },
  "language_info": {
   "codemirror_mode": {
    "name": "ipython",
    "version": 3
   },
   "file_extension": ".py",
   "mimetype": "text/x-python",
   "name": "python",
   "nbconvert_exporter": "python",
   "pygments_lexer": "ipython3",
   "version": "3.7.3"
  }
 },
 "nbformat": 4,
 "nbformat_minor": 4
}
